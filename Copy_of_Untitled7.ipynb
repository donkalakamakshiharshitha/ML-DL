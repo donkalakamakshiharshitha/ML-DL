{
  "nbformat": 4,
  "nbformat_minor": 0,
  "metadata": {
    "colab": {
      "provenance": [],
      "authorship_tag": "ABX9TyNAYLQteZAGcBNQgwNA7tWO",
      "include_colab_link": true
    },
    "kernelspec": {
      "name": "python3",
      "display_name": "Python 3"
    },
    "language_info": {
      "name": "python"
    }
  },
  "cells": [
    {
      "cell_type": "markdown",
      "metadata": {
        "id": "view-in-github",
        "colab_type": "text"
      },
      "source": [
        "<a href=\"https://colab.research.google.com/github/donkalakamakshiharshitha/ML-DL/blob/master/Copy_of_Untitled7.ipynb\" target=\"_parent\"><img src=\"https://colab.research.google.com/assets/colab-badge.svg\" alt=\"Open In Colab\"/></a>"
      ]
    },
    {
      "cell_type": "code",
      "source": [
        "!nvidia-smi"
      ],
      "metadata": {
        "colab": {
          "base_uri": "https://localhost:8080/"
        },
        "id": "BC2Y-xaAHvB0",
        "outputId": "5cb2cb97-a09b-4798-8181-f72ef8b5879e"
      },
      "execution_count": 1,
      "outputs": [
        {
          "output_type": "stream",
          "name": "stdout",
          "text": [
            "/bin/bash: line 1: nvidia-smi: command not found\n"
          ]
        }
      ]
    },
    {
      "cell_type": "code",
      "execution_count": 2,
      "metadata": {
        "id": "5IvteWIQD0bI"
      },
      "outputs": [],
      "source": [
        "# Import the required modules and functions from Keras\n",
        "from __future__ import print_function\n",
        "import keras\n",
        "from keras.datasets import mnist\n",
        "from keras.models import Sequential\n",
        "from keras.layers import Dense, Dropout, Flatten\n",
        "from keras.layers import Conv2D, MaxPooling2D\n",
        "from keras import backend as K"
      ]
    },
    {
      "cell_type": "code",
      "source": [
        "# HYPERPARAMETERS\n",
        "# Set the batch size for training\n",
        "batch_size = 128\n",
        "\n",
        "# Set the number of classes (digits 0-9)\n",
        "num_classes = 10\n",
        "\n",
        "# Set the number of training epochs\n",
        "epochs = 10\n",
        "\n",
        "# Input Image Dimensions\n",
        "# Set the dimensions of the input images\n",
        "img_rows, img_cols = 28, 28\n",
        "\n",
        "# Splitting the Data\n",
        "# Load the MNIST dataset and split it into training and testing sets\n",
        "(x_train, y_train), (x_test, y_test) = mnist.load_data()"
      ],
      "metadata": {
        "id": "g-Vytlc5EFRG",
        "colab": {
          "base_uri": "https://localhost:8080/"
        },
        "outputId": "0fd91557-1685-4d2e-ad54-6a87e05b357f"
      },
      "execution_count": 3,
      "outputs": [
        {
          "output_type": "stream",
          "name": "stdout",
          "text": [
            "Downloading data from https://storage.googleapis.com/tensorflow/tf-keras-datasets/mnist.npz\n",
            "11490434/11490434 [==============================] - 0s 0us/step\n"
          ]
        }
      ]
    },
    {
      "cell_type": "code",
      "source": [
        "# Reshape the data\n",
        "# Check the image data format\n",
        "if K.image_data_format() == 'channels_first':\n",
        "    # Reshape the training and testing data for 'channels_first' format\n",
        "    x_train = x_train.reshape(x_train.shape[0], 1, img_rows, img_cols)\n",
        "    x_test = x_test.reshape(x_test.shape[0], 1, img_rows, img_cols)\n",
        "    input_shape = (1, img_rows, img_cols)\n",
        "else:\n",
        "    # Reshape the training and testing data for 'channels_last' format\n",
        "    x_train = x_train.reshape(x_train.shape[0], img_rows, img_cols, 1)\n",
        "    x_test = x_test.reshape(x_test.shape[0], img_rows, img_cols, 1)\n",
        "    input_shape = (img_rows, img_cols, 1)\n"
      ],
      "metadata": {
        "id": "Vu2H8qW2ELo9"
      },
      "execution_count": 4,
      "outputs": []
    },
    {
      "cell_type": "code",
      "source": [
        "# Convert the data type to 'float32'\n",
        "x_train = x_train.astype('float32')\n",
        "x_test = x_test.astype('float32')\n",
        "\n",
        "# Image Normalization\n",
        "# Normalize the pixel values to the range [0, 1]\n",
        "x_train /= 255\n",
        "x_test /= 255\n",
        "\n",
        "# One Hot Encoding\n",
        "# Convert the class labels to one-hot encoded vectors\n",
        "y_train = keras.utils.to_categorical(y_train, num_classes)\n",
        "y_test = keras.utils.to_categorical(y_test, num_classes)"
      ],
      "metadata": {
        "id": "fHhueYUlENYQ"
      },
      "execution_count": 5,
      "outputs": []
    },
    {
      "cell_type": "code",
      "source": [
        "# KERAS MODEL\n",
        "\n",
        "model = Sequential()\n",
        "\n",
        "# First Layer\n",
        "model.add(Conv2D(32, kernel_size=(3, 3), activation='relu', input_shape=input_shape))\n",
        "\n",
        "# Hidden Layers (Convolution)\n",
        "model.add(Conv2D(64, (3, 3), activation='relu'))\n",
        "model.add(Conv2D(64, (3, 3), activation='relu'))\n",
        "\n",
        "# Pooling Layer\n",
        "model.add(MaxPooling2D(pool_size=(2, 2)))\n",
        "model.add(Dropout(0.25))\n",
        "model.add(Flatten())\n",
        "\n",
        "# DNN Classifier Layers\n",
        "model.add(Dense(128, activation='relu'))\n",
        "model.add(Dense(64, activation='relu'))\n",
        "model.add(Dropout(0.5))\n",
        "\n",
        "# Output Layer\n",
        "model.add(Dense(num_classes, activation='softmax'))\n"
      ],
      "metadata": {
        "id": "KuLyBLb3EU6V"
      },
      "execution_count": 6,
      "outputs": []
    },
    {
      "cell_type": "code",
      "source": [
        "# Compiling the Model\n",
        "model.compile(loss=keras.losses.categorical_crossentropy, optimizer=keras.optimizers.RMSprop(), metrics=['accuracy'])\n",
        "\n",
        "model.fit(x_train, y_train, batch_size=batch_size, epochs=epochs, verbose=1, validation_data=(x_test, y_test))\n",
        "\n",
        "score = model.evaluate(x_test, y_test, verbose=0)\n",
        "print('\\nTest loss:', score[0])\n",
        "print('\\nTest accuracy:', score[1])\n"
      ],
      "metadata": {
        "colab": {
          "base_uri": "https://localhost:8080/"
        },
        "id": "lIFh72aEGZQ_",
        "outputId": "f498d597-b193-42fe-f83c-4fa851043442"
      },
      "execution_count": null,
      "outputs": [
        {
          "output_type": "stream",
          "name": "stdout",
          "text": [
            "Epoch 1/10\n",
            " 25/469 [>.............................] - ETA: 8:11 - loss: 0.0360 - accuracy: 0.9928"
          ]
        }
      ]
    },
    {
      "cell_type": "code",
      "source": [
        "model.save('cnn-mnist-model.h5')"
      ],
      "metadata": {
        "id": "3dlSQXI5EaxE"
      },
      "execution_count": null,
      "outputs": []
    },
    {
      "cell_type": "code",
      "source": [
        "!pip install gradio"
      ],
      "metadata": {
        "id": "0oG2Uj8VEm_B"
      },
      "execution_count": null,
      "outputs": []
    },
    {
      "cell_type": "code",
      "source": [
        "import gradio as gr\n",
        "import tensorflow as tf\n",
        "import cv2\n",
        "\n",
        "\n",
        "title = \"Mnist Digit classifier\""
      ],
      "metadata": {
        "id": "vz48hD-pEs6J"
      },
      "execution_count": null,
      "outputs": []
    },
    {
      "cell_type": "code",
      "source": [
        "img_size = 28\n",
        "labels = [\"zero\", \"one\", \"two\", \"three\", \"four\", \"five\", \"six\", \"seven\", \"eight\", \"nine\"]"
      ],
      "metadata": {
        "id": "Rsn6VCP_EuRJ"
      },
      "execution_count": null,
      "outputs": []
    },
    {
      "cell_type": "code",
      "source": [
        "model = tf.keras.models.load_model(\"/content/cnn-mnist-model.h5\")"
      ],
      "metadata": {
        "id": "5ig_u0sGE2uC"
      },
      "execution_count": null,
      "outputs": []
    },
    {
      "cell_type": "code",
      "source": [
        "def predict(img):\n",
        "\n",
        "  img = cv2.resize(img, (img_size, img_size))\n",
        "  img = img.reshape(1, img_size, img_size, 1)\n",
        "\n",
        "  preds = model.predict(img)[0]\n",
        "\n",
        "  return {label: float(pred) for label, pred in zip(labels, preds)}\n",
        "\n",
        "label = gr.outputs.Label(num_top_classes=3)"
      ],
      "metadata": {
        "id": "XzrwCsWzE4kh"
      },
      "execution_count": null,
      "outputs": []
    },
    {
      "cell_type": "code",
      "source": [
        "interface = gr.Interface(fn=predict, inputs=\"sketchpad\", outputs=label, title=title)\n",
        "interface.launch(debug=True)"
      ],
      "metadata": {
        "id": "GXuvywskFDGD"
      },
      "execution_count": null,
      "outputs": []
    },
    {
      "cell_type": "code",
      "source": [],
      "metadata": {
        "id": "qxaL8EASFHQ0"
      },
      "execution_count": null,
      "outputs": []
    }
  ]
}