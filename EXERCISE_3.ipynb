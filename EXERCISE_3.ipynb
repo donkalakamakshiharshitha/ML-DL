{
  "nbformat": 4,
  "nbformat_minor": 0,
  "metadata": {
    "colab": {
      "provenance": [],
      "authorship_tag": "ABX9TyP2m/3gNzs6n6AZ5umCQlik",
      "include_colab_link": true
    },
    "kernelspec": {
      "name": "python3",
      "display_name": "Python 3"
    },
    "language_info": {
      "name": "python"
    }
  },
  "cells": [
    {
      "cell_type": "markdown",
      "metadata": {
        "id": "view-in-github",
        "colab_type": "text"
      },
      "source": [
        "<a href=\"https://colab.research.google.com/github/donkalakamakshiharshitha/ML-DL/blob/master/EXERCISE_3.ipynb\" target=\"_parent\"><img src=\"https://colab.research.google.com/assets/colab-badge.svg\" alt=\"Open In Colab\"/></a>"
      ]
    },
    {
      "cell_type": "code",
      "execution_count": 152,
      "metadata": {
        "id": "mgkGfEyH_YCe"
      },
      "outputs": [],
      "source": [
        "#Importing MNIST dataset\n",
        "from keras.datasets import mnist\n",
        "# The np_utils module provides utilities for converting data types and manipulating arrays.\n",
        "from keras.utils import np_utils\n",
        "import matplotlib.pyplot as plt\n",
        "%matplotlib inline\n",
        "import numpy as np"
      ]
    },
    {
      "cell_type": "code",
      "source": [
        "#load_data : unpacks the data into tuples : (X_train, y_train) and (X_test, y_test)\n",
        "(X_train, y_train), (X_test, y_test) = mnist.load_data()"
      ],
      "metadata": {
        "id": "OQuKaosd_9fd"
      },
      "execution_count": 153,
      "outputs": []
    },
    {
      "cell_type": "code",
      "source": [
        "print(X_train[1].shape)"
      ],
      "metadata": {
        "colab": {
          "base_uri": "https://localhost:8080/"
        },
        "id": "5m-Qx23WAAGe",
        "outputId": "a8bc8b5d-8937-46e0-8dac-53f9caceb262"
      },
      "execution_count": 154,
      "outputs": [
        {
          "output_type": "stream",
          "name": "stdout",
          "text": [
            "(28, 28)\n"
          ]
        }
      ]
    },
    {
      "cell_type": "code",
      "source": [
        "print(X_train.shape)\n",
        "print(y_train.shape)\n",
        "print(X_test.shape)\n",
        "print(y_test.shape)"
      ],
      "metadata": {
        "colab": {
          "base_uri": "https://localhost:8080/"
        },
        "id": "wis8RgwsAFiQ",
        "outputId": "0917fb1b-ed93-4311-b6e6-a68b625e8351"
      },
      "execution_count": 155,
      "outputs": [
        {
          "output_type": "stream",
          "name": "stdout",
          "text": [
            "(60000, 28, 28)\n",
            "(60000,)\n",
            "(10000, 28, 28)\n",
            "(10000,)\n"
          ]
        }
      ]
    },
    {
      "cell_type": "code",
      "source": [
        "print(\"Number of training examples :\", X_train.shape[0], \"and each image is of shape (%d, %d)\"%(X_train.shape[1], X_train.shape[2]))\n",
        "print(\"Number of training examples :\", X_test.shape[0], \"and each image is of shape (%d, %d)\"%(X_test.shape[1], X_test.shape[2]))"
      ],
      "metadata": {
        "colab": {
          "base_uri": "https://localhost:8080/"
        },
        "id": "7GOWMZmgALKM",
        "outputId": "7ed5dac5-9438-4092-b763-f0d3d12cf0bc"
      },
      "execution_count": 156,
      "outputs": [
        {
          "output_type": "stream",
          "name": "stdout",
          "text": [
            "Number of training examples : 60000 and each image is of shape (28, 28)\n",
            "Number of training examples : 10000 and each image is of shape (28, 28)\n"
          ]
        }
      ]
    },
    {
      "cell_type": "code",
      "source": [
        "#Visualizing train and test images\n",
        "for i in range(9):\n",
        " # define subplot\n",
        " plt.subplot(330 + 1 + i)\n",
        " # plot raw pixel data\n",
        " plt.imshow(X_train[i], cmap=plt.get_cmap('gray'))\n",
        "# show the figure\n",
        "plt.show()"
      ],
      "metadata": {
        "colab": {
          "base_uri": "https://localhost:8080/",
          "height": 433
        },
        "id": "y9zJ8JewAMt_",
        "outputId": "1a8e0390-a777-4ca1-a96d-93e9c5589016"
      },
      "execution_count": 157,
      "outputs": [
        {
          "output_type": "display_data",
          "data": {
            "text/plain": [
              "<Figure size 640x480 with 9 Axes>"
            ],
            "image/png": "[encoded data removed]"
          },
          "metadata": {}
        }
      ]
    },
    {
      "cell_type": "code",
      "source": [
        "#convert 2d to 1d\n",
        "X_train = X_train.reshape(X_train.shape[0], X_train.shape[1]*X_train.shape[2])\n",
        "X_test = X_test.reshape(X_test.shape[0], X_test.shape[1]*X_test.shape[2])"
      ],
      "metadata": {
        "id": "jMbMFhdhARqi"
      },
      "execution_count": 158,
      "outputs": []
    },
    {
      "cell_type": "code",
      "source": [
        "#shape\n",
        "print(X_train.shape)\n",
        "print(X_test.shape)"
      ],
      "metadata": {
        "colab": {
          "base_uri": "https://localhost:8080/"
        },
        "id": "kMYGUY9cAV5n",
        "outputId": "9b5d55e4-0e50-405d-bcbf-eb1d34ea5580"
      },
      "execution_count": 159,
      "outputs": [
        {
          "output_type": "stream",
          "name": "stdout",
          "text": [
            "(60000, 784)\n",
            "(10000, 784)\n"
          ]
        }
      ]
    },
    {
      "cell_type": "code",
      "source": [
        "print(X_train[0])"
      ],
      "metadata": {
        "colab": {
          "base_uri": "https://localhost:8080/"
        },
        "id": "0xMEIgUVAbCk",
        "outputId": "c5f32301-523c-4755-d74a-7f2781d3f449"
      },
      "execution_count": 160,
      "outputs": [
        {
          "output_type": "stream",
          "name": "stdout",
          "text": [
            "[  0   0   0   0   0   0   0   0   0   0   0   0   0   0   0   0   0   0\n",
            "   0   0   0   0   0   0   0   0   0   0   0   0   0   0   0   0   0   0\n",
            "   0   0   0   0   0   0   0   0   0   0   0   0   0   0   0   0   0   0\n",
            "   0   0   0   0   0   0   0   0   0   0   0   0   0   0   0   0   0   0\n",
            "   0   0   0   0   0   0   0   0   0   0   0   0   0   0   0   0   0   0\n",
            "   0   0   0   0   0   0   0   0   0   0   0   0   0   0   0   0   0   0\n",
            "   0   0   0   0   0   0   0   0   0   0   0   0   0   0   0   0   0   0\n",
            "   0   0   0   0   0   0   0   0   0   0   0   0   0   0   0   0   0   0\n",
            "   0   0   0   0   0   0   0   0   3  18  18  18 126 136 175  26 166 255\n",
            " 247 127   0   0   0   0   0   0   0   0   0   0   0   0  30  36  94 154\n",
            " 170 253 253 253 253 253 225 172 253 242 195  64   0   0   0   0   0   0\n",
            "   0   0   0   0   0  49 238 253 253 253 253 253 253 253 253 251  93  82\n",
            "  82  56  39   0   0   0   0   0   0   0   0   0   0   0   0  18 219 253\n",
            " 253 253 253 253 198 182 247 241   0   0   0   0   0   0   0   0   0   0\n",
            "   0   0   0   0   0   0   0   0  80 156 107 253 253 205  11   0  43 154\n",
            "   0   0   0   0   0   0   0   0   0   0   0   0   0   0   0   0   0   0\n",
            "   0  14   1 154 253  90   0   0   0   0   0   0   0   0   0   0   0   0\n",
            "   0   0   0   0   0   0   0   0   0   0   0   0   0 139 253 190   2   0\n",
            "   0   0   0   0   0   0   0   0   0   0   0   0   0   0   0   0   0   0\n",
            "   0   0   0   0   0  11 190 253  70   0   0   0   0   0   0   0   0   0\n",
            "   0   0   0   0   0   0   0   0   0   0   0   0   0   0   0   0  35 241\n",
            " 225 160 108   1   0   0   0   0   0   0   0   0   0   0   0   0   0   0\n",
            "   0   0   0   0   0   0   0   0   0  81 240 253 253 119  25   0   0   0\n",
            "   0   0   0   0   0   0   0   0   0   0   0   0   0   0   0   0   0   0\n",
            "   0   0  45 186 253 253 150  27   0   0   0   0   0   0   0   0   0   0\n",
            "   0   0   0   0   0   0   0   0   0   0   0   0   0  16  93 252 253 187\n",
            "   0   0   0   0   0   0   0   0   0   0   0   0   0   0   0   0   0   0\n",
            "   0   0   0   0   0   0   0 249 253 249  64   0   0   0   0   0   0   0\n",
            "   0   0   0   0   0   0   0   0   0   0   0   0   0   0  46 130 183 253\n",
            " 253 207   2   0   0   0   0   0   0   0   0   0   0   0   0   0   0   0\n",
            "   0   0   0   0  39 148 229 253 253 253 250 182   0   0   0   0   0   0\n",
            "   0   0   0   0   0   0   0   0   0   0   0   0  24 114 221 253 253 253\n",
            " 253 201  78   0   0   0   0   0   0   0   0   0   0   0   0   0   0   0\n",
            "   0   0  23  66 213 253 253 253 253 198  81   2   0   0   0   0   0   0\n",
            "   0   0   0   0   0   0   0   0   0   0  18 171 219 253 253 253 253 195\n",
            "  80   9   0   0   0   0   0   0   0   0   0   0   0   0   0   0   0   0\n",
            "  55 172 226 253 253 253 253 244 133  11   0   0   0   0   0   0   0   0\n",
            "   0   0   0   0   0   0   0   0   0   0 136 253 253 253 212 135 132  16\n",
            "   0   0   0   0   0   0   0   0   0   0   0   0   0   0   0   0   0   0\n",
            "   0   0   0   0   0   0   0   0   0   0   0   0   0   0   0   0   0   0\n",
            "   0   0   0   0   0   0   0   0   0   0   0   0   0   0   0   0   0   0\n",
            "   0   0   0   0   0   0   0   0   0   0   0   0   0   0   0   0   0   0\n",
            "   0   0   0   0   0   0   0   0   0   0   0   0   0   0   0   0   0   0\n",
            "   0   0   0   0   0   0   0   0   0   0]\n"
          ]
        }
      ]
    },
    {
      "cell_type": "code",
      "source": [
        "#pixel scaling\n",
        "X_train = X_train/255\n",
        "X_test = X_test/255"
      ],
      "metadata": {
        "id": "WbGSN4phAf55"
      },
      "execution_count": 161,
      "outputs": []
    },
    {
      "cell_type": "code",
      "source": [
        "print(X_train[0])\n"
      ],
      "metadata": {
        "colab": {
          "base_uri": "https://localhost:8080/"
        },
        "id": "sdY8CceSAk6R",
        "outputId": "3c83d162-812b-44ed-fbaa-60aace674953"
      },
      "execution_count": 162,
      "outputs": [
        {
          "output_type": "stream",
          "name": "stdout",
          "text": [
            "[0.         0.         0.         0.         0.         0.\n",
            " 0.         0.         0.         0.         0.         0.\n",
            " 0.         0.         0.         0.         0.         0.\n",
            " 0.         0.         0.         0.         0.         0.\n",
            " 0.         0.         0.         0.         0.         0.\n",
            " 0.         0.         0.         0.         0.         0.\n",
            " 0.         0.         0.         0.         0.         0.\n",
            " 0.         0.         0.         0.         0.         0.\n",
            " 0.         0.         0.         0.         0.         0.\n",
            " 0.         0.         0.         0.         0.         0.\n",
            " 0.         0.         0.         0.         0.         0.\n",
            " 0.         0.         0.         0.         0.         0.\n",
            " 0.         0.         0.         0.         0.         0.\n",
            " 0.         0.         0.         0.         0.         0.\n",
            " 0.         0.         0.         0.         0.         0.\n",
            " 0.         0.         0.         0.         0.         0.\n",
            " 0.         0.         0.         0.         0.         0.\n",
            " 0.         0.         0.         0.         0.         0.\n",
            " 0.         0.         0.         0.         0.         0.\n",
            " 0.         0.         0.         0.         0.         0.\n",
            " 0.         0.         0.         0.         0.         0.\n",
            " 0.         0.         0.         0.         0.         0.\n",
            " 0.         0.         0.         0.         0.         0.\n",
            " 0.         0.         0.         0.         0.         0.\n",
            " 0.         0.         0.         0.         0.         0.\n",
            " 0.         0.         0.01176471 0.07058824 0.07058824 0.07058824\n",
            " 0.49411765 0.53333333 0.68627451 0.10196078 0.65098039 1.\n",
            " 0.96862745 0.49803922 0.         0.         0.         0.\n",
            " 0.         0.         0.         0.         0.         0.\n",
            " 0.         0.         0.11764706 0.14117647 0.36862745 0.60392157\n",
            " 0.66666667 0.99215686 0.99215686 0.99215686 0.99215686 0.99215686\n",
            " 0.88235294 0.6745098  0.99215686 0.94901961 0.76470588 0.25098039\n",
            " 0.         0.         0.         0.         0.         0.\n",
            " 0.         0.         0.         0.         0.         0.19215686\n",
            " 0.93333333 0.99215686 0.99215686 0.99215686 0.99215686 0.99215686\n",
            " 0.99215686 0.99215686 0.99215686 0.98431373 0.36470588 0.32156863\n",
            " 0.32156863 0.21960784 0.15294118 0.         0.         0.\n",
            " 0.         0.         0.         0.         0.         0.\n",
            " 0.         0.         0.         0.07058824 0.85882353 0.99215686\n",
            " 0.99215686 0.99215686 0.99215686 0.99215686 0.77647059 0.71372549\n",
            " 0.96862745 0.94509804 0.         0.         0.         0.\n",
            " 0.         0.         0.         0.         0.         0.\n",
            " 0.         0.         0.         0.         0.         0.\n",
            " 0.         0.         0.31372549 0.61176471 0.41960784 0.99215686\n",
            " 0.99215686 0.80392157 0.04313725 0.         0.16862745 0.60392157\n",
            " 0.         0.         0.         0.         0.         0.\n",
            " 0.         0.         0.         0.         0.         0.\n",
            " 0.         0.         0.         0.         0.         0.\n",
            " 0.         0.05490196 0.00392157 0.60392157 0.99215686 0.35294118\n",
            " 0.         0.         0.         0.         0.         0.\n",
            " 0.         0.         0.         0.         0.         0.\n",
            " 0.         0.         0.         0.         0.         0.\n",
            " 0.         0.         0.         0.         0.         0.\n",
            " 0.         0.54509804 0.99215686 0.74509804 0.00784314 0.\n",
            " 0.         0.         0.         0.         0.         0.\n",
            " 0.         0.         0.         0.         0.         0.\n",
            " 0.         0.         0.         0.         0.         0.\n",
            " 0.         0.         0.         0.         0.         0.04313725\n",
            " 0.74509804 0.99215686 0.2745098  0.         0.         0.\n",
            " 0.         0.         0.         0.         0.         0.\n",
            " 0.         0.         0.         0.         0.         0.\n",
            " 0.         0.         0.         0.         0.         0.\n",
            " 0.         0.         0.         0.         0.1372549  0.94509804\n",
            " 0.88235294 0.62745098 0.42352941 0.00392157 0.         0.\n",
            " 0.         0.         0.         0.         0.         0.\n",
            " 0.         0.         0.         0.         0.         0.\n",
            " 0.         0.         0.         0.         0.         0.\n",
            " 0.         0.         0.         0.31764706 0.94117647 0.99215686\n",
            " 0.99215686 0.46666667 0.09803922 0.         0.         0.\n",
            " 0.         0.         0.         0.         0.         0.\n",
            " 0.         0.         0.         0.         0.         0.\n",
            " 0.         0.         0.         0.         0.         0.\n",
            " 0.         0.         0.17647059 0.72941176 0.99215686 0.99215686\n",
            " 0.58823529 0.10588235 0.         0.         0.         0.\n",
            " 0.         0.         0.         0.         0.         0.\n",
            " 0.         0.         0.         0.         0.         0.\n",
            " 0.         0.         0.         0.         0.         0.\n",
            " 0.         0.0627451  0.36470588 0.98823529 0.99215686 0.73333333\n",
            " 0.         0.         0.         0.         0.         0.\n",
            " 0.         0.         0.         0.         0.         0.\n",
            " 0.         0.         0.         0.         0.         0.\n",
            " 0.         0.         0.         0.         0.         0.\n",
            " 0.         0.97647059 0.99215686 0.97647059 0.25098039 0.\n",
            " 0.         0.         0.         0.         0.         0.\n",
            " 0.         0.         0.         0.         0.         0.\n",
            " 0.         0.         0.         0.         0.         0.\n",
            " 0.         0.         0.18039216 0.50980392 0.71764706 0.99215686\n",
            " 0.99215686 0.81176471 0.00784314 0.         0.         0.\n",
            " 0.         0.         0.         0.         0.         0.\n",
            " 0.         0.         0.         0.         0.         0.\n",
            " 0.         0.         0.         0.         0.15294118 0.58039216\n",
            " 0.89803922 0.99215686 0.99215686 0.99215686 0.98039216 0.71372549\n",
            " 0.         0.         0.         0.         0.         0.\n",
            " 0.         0.         0.         0.         0.         0.\n",
            " 0.         0.         0.         0.         0.         0.\n",
            " 0.09411765 0.44705882 0.86666667 0.99215686 0.99215686 0.99215686\n",
            " 0.99215686 0.78823529 0.30588235 0.         0.         0.\n",
            " 0.         0.         0.         0.         0.         0.\n",
            " 0.         0.         0.         0.         0.         0.\n",
            " 0.         0.         0.09019608 0.25882353 0.83529412 0.99215686\n",
            " 0.99215686 0.99215686 0.99215686 0.77647059 0.31764706 0.00784314\n",
            " 0.         0.         0.         0.         0.         0.\n",
            " 0.         0.         0.         0.         0.         0.\n",
            " 0.         0.         0.         0.         0.07058824 0.67058824\n",
            " 0.85882353 0.99215686 0.99215686 0.99215686 0.99215686 0.76470588\n",
            " 0.31372549 0.03529412 0.         0.         0.         0.\n",
            " 0.         0.         0.         0.         0.         0.\n",
            " 0.         0.         0.         0.         0.         0.\n",
            " 0.21568627 0.6745098  0.88627451 0.99215686 0.99215686 0.99215686\n",
            " 0.99215686 0.95686275 0.52156863 0.04313725 0.         0.\n",
            " 0.         0.         0.         0.         0.         0.\n",
            " 0.         0.         0.         0.         0.         0.\n",
            " 0.         0.         0.         0.         0.53333333 0.99215686\n",
            " 0.99215686 0.99215686 0.83137255 0.52941176 0.51764706 0.0627451\n",
            " 0.         0.         0.         0.         0.         0.\n",
            " 0.         0.         0.         0.         0.         0.\n",
            " 0.         0.         0.         0.         0.         0.\n",
            " 0.         0.         0.         0.         0.         0.\n",
            " 0.         0.         0.         0.         0.         0.\n",
            " 0.         0.         0.         0.         0.         0.\n",
            " 0.         0.         0.         0.         0.         0.\n",
            " 0.         0.         0.         0.         0.         0.\n",
            " 0.         0.         0.         0.         0.         0.\n",
            " 0.         0.         0.         0.         0.         0.\n",
            " 0.         0.         0.         0.         0.         0.\n",
            " 0.         0.         0.         0.         0.         0.\n",
            " 0.         0.         0.         0.         0.         0.\n",
            " 0.         0.         0.         0.         0.         0.\n",
            " 0.         0.         0.         0.         0.         0.\n",
            " 0.         0.         0.         0.         0.         0.\n",
            " 0.         0.         0.         0.        ]\n"
          ]
        }
      ]
    },
    {
      "cell_type": "code",
      "source": [
        "#pre-processing\n",
        "print(\"Class label of first image :\", y_train[0])"
      ],
      "metadata": {
        "colab": {
          "base_uri": "https://localhost:8080/"
        },
        "id": "bjCwn-Y2Am2Q",
        "outputId": "92b9be5a-db8c-4be0-d686-c9cd467981cc"
      },
      "execution_count": 173,
      "outputs": [
        {
          "output_type": "stream",
          "name": "stdout",
          "text": [
            "Class label of first image : 5\n"
          ]
        }
      ]
    },
    {
      "cell_type": "code",
      "source": [
        "#One-hot encoding\n",
        "Y_train = np_utils.to_categorical(y_train, 10)\n",
        "Y_test = np_utils.to_categorical(y_test, 10)"
      ],
      "metadata": {
        "id": "pAdYup9qAtVA"
      },
      "execution_count": 164,
      "outputs": []
    },
    {
      "cell_type": "code",
      "source": [
        "print(\"After converting the output into a vector : \",Y_train[0])\n"
      ],
      "metadata": {
        "colab": {
          "base_uri": "https://localhost:8080/"
        },
        "id": "S5uGzyiXAvt-",
        "outputId": "136e805e-f43a-4951-e600-939d85923483"
      },
      "execution_count": 165,
      "outputs": [
        {
          "output_type": "stream",
          "name": "stdout",
          "text": [
            "After converting the output into a vector :  [0. 0. 0. 0. 0. 1. 0. 0. 0. 0.]\n"
          ]
        }
      ]
    },
    {
      "cell_type": "code",
      "source": [
        "#Building a basic Model\n",
        "from keras.models import Sequential\n",
        "from keras.layers import Dense, Activation\n"
      ],
      "metadata": {
        "id": "TPJEnW0iA2_M"
      },
      "execution_count": 166,
      "outputs": []
    },
    {
      "cell_type": "code",
      "source": [
        "input_dim = X_train.shape[1] #784\n",
        "output_dim = 10 #0-9\n"
      ],
      "metadata": {
        "id": "ws66JOeIA5fo"
      },
      "execution_count": 167,
      "outputs": []
    },
    {
      "cell_type": "code",
      "source": [
        "model = Sequential()\n",
        "model.add(Dense(output_dim, input_dim=input_dim, activation='softmax'))\n",
        "model.compile(optimizer='sgd', loss='categorical_crossentropy', metrics=['accuracy'])\n"
      ],
      "metadata": {
        "id": "Q2m6RuSCBALo"
      },
      "execution_count": 168,
      "outputs": []
    },
    {
      "cell_type": "code",
      "source": [
        "#training data and labels\n",
        "history = model.fit(X_train, Y_train, batch_size=128, epochs=20, verbose=1, validation_data=(X_test, Y_test))"
      ],
      "metadata": {
        "colab": {
          "base_uri": "https://localhost:8080/"
        },
        "id": "40aktuvmBBtN",
        "outputId": "1477318b-6551-4d47-a024-1cee0d3eb229"
      },
      "execution_count": 169,
      "outputs": [
        {
          "output_type": "stream",
          "name": "stdout",
          "text": [
            "Epoch 1/20\n",
            "469/469 [==============================] - 2s 3ms/step - loss: 1.2420 - accuracy: 0.7162 - val_loss: 0.8012 - val_accuracy: 0.8371\n",
            "Epoch 2/20\n",
            "469/469 [==============================] - 2s 4ms/step - loss: 0.7083 - accuracy: 0.8425 - val_loss: 0.6047 - val_accuracy: 0.8627\n",
            "Epoch 3/20\n",
            "469/469 [==============================] - 2s 4ms/step - loss: 0.5841 - accuracy: 0.8609 - val_loss: 0.5247 - val_accuracy: 0.8730\n",
            "Epoch 4/20\n",
            "469/469 [==============================] - 1s 3ms/step - loss: 0.5238 - accuracy: 0.8701 - val_loss: 0.4800 - val_accuracy: 0.8807\n",
            "Epoch 5/20\n",
            "469/469 [==============================] - 1s 3ms/step - loss: 0.4868 - accuracy: 0.8758 - val_loss: 0.4505 - val_accuracy: 0.8859\n",
            "Epoch 6/20\n",
            "469/469 [==============================] - 1s 3ms/step - loss: 0.4612 - accuracy: 0.8802 - val_loss: 0.4292 - val_accuracy: 0.8888\n",
            "Epoch 7/20\n",
            "469/469 [==============================] - 1s 3ms/step - loss: 0.4423 - accuracy: 0.8831 - val_loss: 0.4129 - val_accuracy: 0.8922\n",
            "Epoch 8/20\n",
            "469/469 [==============================] - 1s 3ms/step - loss: 0.4275 - accuracy: 0.8860 - val_loss: 0.4003 - val_accuracy: 0.8946\n",
            "Epoch 9/20\n",
            "469/469 [==============================] - 1s 3ms/step - loss: 0.4155 - accuracy: 0.8885 - val_loss: 0.3897 - val_accuracy: 0.8968\n",
            "Epoch 10/20\n",
            "469/469 [==============================] - 1s 3ms/step - loss: 0.4055 - accuracy: 0.8905 - val_loss: 0.3810 - val_accuracy: 0.8990\n",
            "Epoch 11/20\n",
            "469/469 [==============================] - 2s 4ms/step - loss: 0.3971 - accuracy: 0.8918 - val_loss: 0.3737 - val_accuracy: 0.9011\n",
            "Epoch 12/20\n",
            "469/469 [==============================] - 2s 4ms/step - loss: 0.3897 - accuracy: 0.8941 - val_loss: 0.3674 - val_accuracy: 0.9018\n",
            "Epoch 13/20\n",
            "469/469 [==============================] - 1s 3ms/step - loss: 0.3834 - accuracy: 0.8953 - val_loss: 0.3619 - val_accuracy: 0.9029\n",
            "Epoch 14/20\n",
            "469/469 [==============================] - 1s 3ms/step - loss: 0.3778 - accuracy: 0.8967 - val_loss: 0.3565 - val_accuracy: 0.9048\n",
            "Epoch 15/20\n",
            "469/469 [==============================] - 1s 3ms/step - loss: 0.3728 - accuracy: 0.8978 - val_loss: 0.3522 - val_accuracy: 0.9055\n",
            "Epoch 16/20\n",
            "469/469 [==============================] - 1s 3ms/step - loss: 0.3682 - accuracy: 0.8989 - val_loss: 0.3484 - val_accuracy: 0.9067\n",
            "Epoch 17/20\n",
            "469/469 [==============================] - 1s 3ms/step - loss: 0.3642 - accuracy: 0.8997 - val_loss: 0.3448 - val_accuracy: 0.9079\n",
            "Epoch 18/20\n",
            "469/469 [==============================] - 1s 3ms/step - loss: 0.3604 - accuracy: 0.9006 - val_loss: 0.3415 - val_accuracy: 0.9087\n",
            "Epoch 19/20\n",
            "469/469 [==============================] - 1s 3ms/step - loss: 0.3570 - accuracy: 0.9014 - val_loss: 0.3386 - val_accuracy: 0.9088\n",
            "Epoch 20/20\n",
            "469/469 [==============================] - 1s 3ms/step - loss: 0.3538 - accuracy: 0.9019 - val_loss: 0.3359 - val_accuracy: 0.9105\n"
          ]
        }
      ]
    },
    {
      "cell_type": "code",
      "source": [
        "#Basic model evaluation\n",
        "score = model.evaluate(X_test, Y_test, verbose=0)\n",
        "print('Test score:', score[0])\n",
        "print('Test accuracy:', score[1])\n",
        ""
      ],
      "metadata": {
        "colab": {
          "base_uri": "https://localhost:8080/"
        },
        "id": "CkeT1YgYae3B",
        "outputId": "8345878c-7972-47c6-b526-f2da92122530"
      },
      "execution_count": 170,
      "outputs": [
        {
          "output_type": "stream",
          "name": "stdout",
          "text": [
            "Test score: 0.33594560623168945\n",
            "Test accuracy: 0.9104999899864197\n"
          ]
        }
      ]
    },
    {
      "cell_type": "code",
      "source": [
        "image_index = 120\n",
        "plt.imshow(X_test[image_index].reshape(28, 28),cmap='Greys')\n",
        "pred = model.predict(X_test)\n",
        "print(pred[image_index])\n",
        "print(np.argmax(pred[image_index]))"
      ],
      "metadata": {
        "colab": {
          "base_uri": "https://localhost:8080/",
          "height": 499
        },
        "id": "zPWWuRO6BNGy",
        "outputId": "024ccc8b-70a2-41f8-c9a8-5461249435f9"
      },
      "execution_count": 171,
      "outputs": [
        {
          "output_type": "stream",
          "name": "stdout",
          "text": [
            "313/313 [==============================] - 1s 1ms/step\n",
            "[7.4202189e-04 1.2477834e-06 2.5136475e-04 1.5003972e-01 7.7018206e-04\n",
            " 7.8974080e-01 2.0779650e-04 4.8760166e-06 5.7930868e-02 3.1115735e-04]\n",
            "5\n"
          ]
        },
        {
          "output_type": "display_data",
          "data": {
            "text/plain": [
              "<Figure size 640x480 with 1 Axes>"
            ],
            "image/png": "[encoded data removed]"
          },
          "metadata": {}
        }
      ]
    },
    {
      "cell_type": "code",
      "source": [
        "#constants for readability\n",
        "NB_EPOCHS = 20\n",
        "BATCH_SIZE = 128"
      ],
      "metadata": {
        "id": "ETJhTPFVBTSu"
      },
      "execution_count": 174,
      "outputs": []
    },
    {
      "cell_type": "code",
      "source": [
        "# Multilayer perceptron\n",
        "model_sigmoid = Sequential()\n",
        "model_sigmoid.add(Dense(512, activation='sigmoid', input_shape=(input_dim,)))\n",
        "model_sigmoid.add(Dense(128, activation='sigmoid'))\n",
        "model_sigmoid.add(Dense(output_dim, activation='softmax'))\n",
        "model_sigmoid.summary()"
      ],
      "metadata": {
        "colab": {
          "base_uri": "https://localhost:8080/"
        },
        "id": "ohnaTPcIBXQm",
        "outputId": "67582f50-88f4-4209-e601-5ace2eb44b31"
      },
      "execution_count": 151,
      "outputs": [
        {
          "output_type": "stream",
          "name": "stdout",
          "text": [
            "Model: \"sequential_26\"\n",
            "_________________________________________________________________\n",
            " Layer (type)                Output Shape              Param #   \n",
            "=================================================================\n",
            " dense_44 (Dense)            (None, 512)               401920    \n",
            "                                                                 \n",
            " dense_45 (Dense)            (None, 128)               65664     \n",
            "                                                                 \n",
            " dense_46 (Dense)            (None, 10)                1290      \n",
            "                                                                 \n",
            "=================================================================\n",
            "Total params: 468,874\n",
            "Trainable params: 468,874\n",
            "Non-trainable params: 0\n",
            "_________________________________________________________________\n"
          ]
        }
      ]
    },
    {
      "cell_type": "code",
      "source": [
        "#MLP + Sigmoid activation + ADAM Optimizer\n",
        "model_sigmoid.compile(optimizer='adam', loss='categorical_crossentropy', metrics=['accuracy'])\n",
        "history = model_sigmoid.fit(X_train, Y_train, batch_size=BATCH_SIZE, epochs=NB_EPOCHS, verbose=1, validation_data=(X_test, Y_test))\n"
      ],
      "metadata": {
        "colab": {
          "base_uri": "https://localhost:8080/"
        },
        "id": "fd9yvDkuBgbe",
        "outputId": "29ededfe-e778-476c-cfa8-6dbadb990143"
      },
      "execution_count": 175,
      "outputs": [
        {
          "output_type": "stream",
          "name": "stdout",
          "text": [
            "Epoch 1/20\n",
            "469/469 [==============================] - 7s 13ms/step - loss: 0.5363 - accuracy: 0.8626 - val_loss: 0.2535 - val_accuracy: 0.9281\n",
            "Epoch 2/20\n",
            "469/469 [==============================] - 7s 16ms/step - loss: 0.2210 - accuracy: 0.9346 - val_loss: 0.1843 - val_accuracy: 0.9440\n",
            "Epoch 3/20\n",
            "469/469 [==============================] - 7s 14ms/step - loss: 0.1628 - accuracy: 0.9517 - val_loss: 0.1438 - val_accuracy: 0.9565\n",
            "Epoch 4/20\n",
            "469/469 [==============================] - 7s 15ms/step - loss: 0.1255 - accuracy: 0.9625 - val_loss: 0.1159 - val_accuracy: 0.9648\n",
            "Epoch 5/20\n",
            "469/469 [==============================] - 7s 14ms/step - loss: 0.0979 - accuracy: 0.9714 - val_loss: 0.0999 - val_accuracy: 0.9683\n",
            "Epoch 6/20\n",
            "469/469 [==============================] - 7s 14ms/step - loss: 0.0792 - accuracy: 0.9761 - val_loss: 0.0905 - val_accuracy: 0.9720\n",
            "Epoch 7/20\n",
            "469/469 [==============================] - 7s 15ms/step - loss: 0.0644 - accuracy: 0.9811 - val_loss: 0.0826 - val_accuracy: 0.9750\n",
            "Epoch 8/20\n",
            "469/469 [==============================] - 6s 13ms/step - loss: 0.0524 - accuracy: 0.9845 - val_loss: 0.0751 - val_accuracy: 0.9765\n",
            "Epoch 9/20\n",
            "469/469 [==============================] - 8s 16ms/step - loss: 0.0415 - accuracy: 0.9882 - val_loss: 0.0730 - val_accuracy: 0.9769\n",
            "Epoch 10/20\n",
            "469/469 [==============================] - 7s 15ms/step - loss: 0.0348 - accuracy: 0.9902 - val_loss: 0.0703 - val_accuracy: 0.9787\n",
            "Epoch 11/20\n",
            "469/469 [==============================] - 7s 16ms/step - loss: 0.0277 - accuracy: 0.9929 - val_loss: 0.0629 - val_accuracy: 0.9805\n",
            "Epoch 12/20\n",
            "469/469 [==============================] - 6s 14ms/step - loss: 0.0222 - accuracy: 0.9940 - val_loss: 0.0614 - val_accuracy: 0.9814\n",
            "Epoch 13/20\n",
            "469/469 [==============================] - 7s 16ms/step - loss: 0.0182 - accuracy: 0.9954 - val_loss: 0.0666 - val_accuracy: 0.9800\n",
            "Epoch 14/20\n",
            "469/469 [==============================] - 6s 13ms/step - loss: 0.0146 - accuracy: 0.9962 - val_loss: 0.0671 - val_accuracy: 0.9803\n",
            "Epoch 15/20\n",
            "469/469 [==============================] - 9s 20ms/step - loss: 0.0118 - accuracy: 0.9973 - val_loss: 0.0636 - val_accuracy: 0.9822\n",
            "Epoch 16/20\n",
            "469/469 [==============================] - 7s 14ms/step - loss: 0.0091 - accuracy: 0.9982 - val_loss: 0.0720 - val_accuracy: 0.9785\n",
            "Epoch 17/20\n",
            "469/469 [==============================] - 9s 20ms/step - loss: 0.0072 - accuracy: 0.9985 - val_loss: 0.0642 - val_accuracy: 0.9819\n",
            "Epoch 18/20\n",
            "469/469 [==============================] - 8s 18ms/step - loss: 0.0059 - accuracy: 0.9988 - val_loss: 0.0664 - val_accuracy: 0.9818\n",
            "Epoch 19/20\n",
            "469/469 [==============================] - 6s 13ms/step - loss: 0.0045 - accuracy: 0.9991 - val_loss: 0.0648 - val_accuracy: 0.9828\n",
            "Epoch 20/20\n",
            "469/469 [==============================] - 7s 16ms/step - loss: 0.0059 - accuracy: 0.9984 - val_loss: 0.0697 - val_accuracy: 0.9801\n"
          ]
        }
      ]
    },
    {
      "cell_type": "code",
      "source": [
        "#evaluates the trained neural network model on the testing data (X_test and Y_test)\n",
        "score = model.evaluate(X_test, Y_test, verbose=0)\n",
        "print('Test score:', score[0])\n",
        "print('Test accuracy:', score[1])\n"
      ],
      "metadata": {
        "colab": {
          "base_uri": "https://localhost:8080/"
        },
        "id": "zkmPFI0wBqW9",
        "outputId": "f50d9f97-7867-4368-91aa-43db95ccbbf0"
      },
      "execution_count": 145,
      "outputs": [
        {
          "output_type": "stream",
          "name": "stdout",
          "text": [
            "Test score: 0.335936963558197\n",
            "Test accuracy: 0.907800018787384\n"
          ]
        }
      ]
    },
    {
      "cell_type": "code",
      "source": [
        "#MLP+ReLu Activation+ADAM optimizer\n",
        "model_relu = Sequential()\n",
        "model_relu.add(Dense(512, activation='relu', input_shape=(input_dim,)))\n",
        "model_relu.add(Dense(128, activation='relu'))\n",
        "model_relu.add(Dense(output_dim, activation='softmax'))\n",
        "model_relu.summary()"
      ],
      "metadata": {
        "colab": {
          "base_uri": "https://localhost:8080/"
        },
        "id": "9AuHuYywYg2W",
        "outputId": "11984980-14fe-4510-e7bb-f38c33f7bc80"
      },
      "execution_count": 147,
      "outputs": [
        {
          "output_type": "stream",
          "name": "stdout",
          "text": [
            "Model: \"sequential_23\"\n",
            "_________________________________________________________________\n",
            " Layer (type)                Output Shape              Param #   \n",
            "=================================================================\n",
            " dense_37 (Dense)            (None, 512)               401920    \n",
            "                                                                 \n",
            " dense_38 (Dense)            (None, 128)               65664     \n",
            "                                                                 \n",
            " dense_39 (Dense)            (None, 10)                1290      \n",
            "                                                                 \n",
            "=================================================================\n",
            "Total params: 468,874\n",
            "Trainable params: 468,874\n",
            "Non-trainable params: 0\n",
            "_________________________________________________________________\n"
          ]
        }
      ]
    },
    {
      "cell_type": "code",
      "source": [
        "image_index = 70\n",
        "plt.imshow(X_test[image_index].reshape(28, 28),cmap='Greys')\n",
        "pred = model_sigmoid.predict(X_test)\n",
        "print(pred[image_index])\n",
        "print(np.argmax(pred[image_index]))\n",
        ""
      ],
      "metadata": {
        "colab": {
          "base_uri": "https://localhost:8080/",
          "height": 499
        },
        "id": "11dqeAbrrgvu",
        "outputId": "ce3a68d8-1c6a-478e-e4b3-02d921a52f86"
      },
      "execution_count": 189,
      "outputs": [
        {
          "output_type": "stream",
          "name": "stdout",
          "text": [
            "313/313 [==============================] - 1s 3ms/step\n",
            "[0.0249629  0.02629698 0.08240071 0.05394112 0.0549538  0.05910534\n",
            " 0.06723476 0.46029153 0.03256838 0.13824442]\n",
            "7\n"
          ]
        },
        {
          "output_type": "display_data",
          "data": {
            "text/plain": [
              "<Figure size 640x480 with 1 Axes>"
            ],
            "image/png": "[encoded data removed]"
          },
          "metadata": {}
        }
      ]
    },
    {
      "cell_type": "code",
      "source": [
        "model_relu.compile(optimizer='adam', loss='categorical_crossentropy', metrics=['accuracy'])\n",
        "history = model_sigmoid.fit(X_train, Y_train, batch_size=BATCH_SIZE, epochs=NB_EPOCHS, verbose=1, validation_data=(X_test, Y_test))"
      ],
      "metadata": {
        "colab": {
          "base_uri": "https://localhost:8080/"
        },
        "id": "kdMS3BPIojTS",
        "outputId": "24c684fe-0ca1-4ed9-a08e-94b5311d1f5c"
      },
      "execution_count": 176,
      "outputs": [
        {
          "output_type": "stream",
          "name": "stdout",
          "text": [
            "Epoch 1/20\n",
            "469/469 [==============================] - 7s 15ms/step - loss: 0.0033 - accuracy: 0.9995 - val_loss: 0.0670 - val_accuracy: 0.9825\n",
            "Epoch 2/20\n",
            "469/469 [==============================] - 7s 15ms/step - loss: 0.0023 - accuracy: 0.9996 - val_loss: 0.0654 - val_accuracy: 0.9831\n",
            "Epoch 3/20\n",
            "469/469 [==============================] - 7s 15ms/step - loss: 0.0016 - accuracy: 0.9998 - val_loss: 0.0691 - val_accuracy: 0.9831\n",
            "Epoch 4/20\n",
            "469/469 [==============================] - 6s 13ms/step - loss: 0.0016 - accuracy: 0.9997 - val_loss: 0.0724 - val_accuracy: 0.9822\n",
            "Epoch 5/20\n",
            "469/469 [==============================] - 7s 16ms/step - loss: 0.0071 - accuracy: 0.9975 - val_loss: 0.0822 - val_accuracy: 0.9799\n",
            "Epoch 6/20\n",
            "469/469 [==============================] - 6s 14ms/step - loss: 0.0027 - accuracy: 0.9994 - val_loss: 0.0707 - val_accuracy: 0.9835\n",
            "Epoch 7/20\n",
            "469/469 [==============================] - 7s 16ms/step - loss: 4.4049e-04 - accuracy: 1.0000 - val_loss: 0.0699 - val_accuracy: 0.9838\n",
            "Epoch 8/20\n",
            "469/469 [==============================] - 6s 14ms/step - loss: 3.0323e-04 - accuracy: 1.0000 - val_loss: 0.0695 - val_accuracy: 0.9839\n",
            "Epoch 9/20\n",
            "469/469 [==============================] - 7s 15ms/step - loss: 2.3808e-04 - accuracy: 1.0000 - val_loss: 0.0694 - val_accuracy: 0.9836\n",
            "Epoch 10/20\n",
            "469/469 [==============================] - 8s 17ms/step - loss: 2.0243e-04 - accuracy: 1.0000 - val_loss: 0.0705 - val_accuracy: 0.9839\n",
            "Epoch 11/20\n",
            "469/469 [==============================] - 7s 15ms/step - loss: 0.0058 - accuracy: 0.9980 - val_loss: 0.0925 - val_accuracy: 0.9794\n",
            "Epoch 12/20\n",
            "469/469 [==============================] - 7s 14ms/step - loss: 0.0048 - accuracy: 0.9985 - val_loss: 0.0773 - val_accuracy: 0.9828\n",
            "Epoch 13/20\n",
            "469/469 [==============================] - 7s 15ms/step - loss: 4.4087e-04 - accuracy: 1.0000 - val_loss: 0.0742 - val_accuracy: 0.9832\n",
            "Epoch 14/20\n",
            "469/469 [==============================] - 7s 15ms/step - loss: 1.8562e-04 - accuracy: 1.0000 - val_loss: 0.0736 - val_accuracy: 0.9833\n",
            "Epoch 15/20\n",
            "469/469 [==============================] - 7s 14ms/step - loss: 1.4150e-04 - accuracy: 1.0000 - val_loss: 0.0752 - val_accuracy: 0.9835\n",
            "Epoch 16/20\n",
            "469/469 [==============================] - 7s 15ms/step - loss: 1.1822e-04 - accuracy: 1.0000 - val_loss: 0.0753 - val_accuracy: 0.9838\n",
            "Epoch 17/20\n",
            "469/469 [==============================] - 6s 14ms/step - loss: 1.0201e-04 - accuracy: 1.0000 - val_loss: 0.0752 - val_accuracy: 0.9840\n",
            "Epoch 18/20\n",
            "469/469 [==============================] - 8s 16ms/step - loss: 9.0826e-05 - accuracy: 1.0000 - val_loss: 0.0754 - val_accuracy: 0.9842\n",
            "Epoch 19/20\n",
            "469/469 [==============================] - 6s 13ms/step - loss: 8.1084e-05 - accuracy: 1.0000 - val_loss: 0.0769 - val_accuracy: 0.9838\n",
            "Epoch 20/20\n",
            "469/469 [==============================] - 7s 16ms/step - loss: 0.0021 - accuracy: 0.9994 - val_loss: 0.2036 - val_accuracy: 0.9622\n"
          ]
        }
      ]
    },
    {
      "cell_type": "code",
      "source": [
        "image_index = 40\n",
        "plt.imshow(X_test[image_index].reshape(28, 28),cmap='Greys')\n",
        "pred = model_sigmoid.predict(X_test)\n",
        "print(pred[image_index])\n",
        "print(np.argmax(pred[image_index]))"
      ],
      "metadata": {
        "colab": {
          "base_uri": "https://localhost:8080/",
          "height": 499
        },
        "id": "JfTXh9JwkcyD",
        "outputId": "89cc67b5-d503-4c8c-fb8d-a147d50b27ca"
      },
      "execution_count": 148,
      "outputs": [
        {
          "output_type": "stream",
          "name": "stdout",
          "text": [
            "313/313 [==============================] - 1s 3ms/step\n",
            "[1.1385234e-11 9.9999219e-01 4.8568683e-07 1.5694364e-06 6.2218867e-08\n",
            " 7.6923108e-09 5.8366993e-08 5.3101403e-06 1.7748556e-07 5.9049484e-08]\n",
            "1\n"
          ]
        },
        {
          "output_type": "display_data",
          "data": {
            "text/plain": [
              "<Figure size 640x480 with 1 Axes>"
            ],
            "image/png": "[encoded data removed]"
          },
          "metadata": {}
        }
      ]
    },
    {
      "cell_type": "code",
      "source": [
        "strategy = tf.distribute.MirroredStrategy()\n",
        "model_sigmoid = Sequential()\n",
        "model_sigmoid.add(Dense(512, activation='sigmoid', input_shape=(input_dim,)))\n",
        "with strategy.scope():\n",
        "  model = tf.keras.Sequential()\n",
        "  model.add(tf.keras.layers.Dense(16))\n",
        "  model.add(tf.keras.layers.BatchNormalization(synchronized=True))\n",
        "\n",
        "model_sigmoid.add(Dense(128, activation='sigmoid'))\n",
        "model_sigmoid.add(Dense(output_dim, activation='softmax'))\n",
        "model_sigmoid.summary()"
      ],
      "metadata": {
        "id": "lCDow81Jby3k"
      },
      "execution_count": null,
      "outputs": []
    },
    {
      "cell_type": "code",
      "source": [
        "image_index = 70\n",
        "plt.imshow(X_test[image_index].reshape(28, 28),cmap='Greys')\n",
        "pred = model_sigmoid.predict(X_test)\n",
        "print(pred[image_index])\n",
        "print(np.argmax(pred[image_index]))"
      ],
      "metadata": {
        "colab": {
          "base_uri": "https://localhost:8080/",
          "height": 499
        },
        "id": "PU7bu9SBjGJi",
        "outputId": "00a3515e-ccf7-4789-f439-e6c0f4cf3077"
      },
      "execution_count": 181,
      "outputs": [
        {
          "output_type": "stream",
          "name": "stdout",
          "text": [
            "313/313 [==============================] - 1s 3ms/step\n",
            "[0.0249629  0.02629698 0.08240071 0.05394112 0.0549538  0.05910534\n",
            " 0.06723476 0.46029153 0.03256838 0.13824442]\n",
            "7\n"
          ]
        },
        {
          "output_type": "display_data",
          "data": {
            "text/plain": [
              "<Figure size 640x480 with 1 Axes>"
            ],
            "image/png": "[encoded data removed]"
          },
          "metadata": {}
        }
      ]
    }
  ]
}